{
  "nbformat": 4,
  "nbformat_minor": 0,
  "metadata": {
    "colab": {
      "provenance": []
    },
    "kernelspec": {
      "name": "python3",
      "display_name": "Python 3"
    },
    "language_info": {
      "name": "python"
    }
  },
  "cells": [
    {
      "cell_type": "code",
      "execution_count": 2,
      "metadata": {
        "colab": {
          "base_uri": "https://localhost:8080/"
        },
        "id": "2Ag5uBA28NHe",
        "outputId": "02edbbc4-6568-4d28-82d6-e7ee66c3dede"
      },
      "outputs": [
        {
          "output_type": "stream",
          "name": "stdout",
          "text": [
            "Collecting qiskit\n",
            "  Downloading qiskit-1.2.1-cp38-abi3-manylinux_2_17_x86_64.manylinux2014_x86_64.whl.metadata (12 kB)\n",
            "Requirement already satisfied: ipywidgets in /usr/local/lib/python3.10/dist-packages (7.7.1)\n",
            "Collecting rustworkx>=0.15.0 (from qiskit)\n",
            "  Downloading rustworkx-0.15.1-cp38-abi3-manylinux_2_17_x86_64.manylinux2014_x86_64.whl.metadata (9.9 kB)\n",
            "Requirement already satisfied: numpy<3,>=1.17 in /usr/local/lib/python3.10/dist-packages (from qiskit) (1.26.4)\n",
            "Requirement already satisfied: scipy>=1.5 in /usr/local/lib/python3.10/dist-packages (from qiskit) (1.13.1)\n",
            "Requirement already satisfied: sympy>=1.3 in /usr/local/lib/python3.10/dist-packages (from qiskit) (1.13.2)\n",
            "Collecting dill>=0.3 (from qiskit)\n",
            "  Downloading dill-0.3.8-py3-none-any.whl.metadata (10 kB)\n",
            "Requirement already satisfied: python-dateutil>=2.8.0 in /usr/local/lib/python3.10/dist-packages (from qiskit) (2.8.2)\n",
            "Collecting stevedore>=3.0.0 (from qiskit)\n",
            "  Downloading stevedore-5.3.0-py3-none-any.whl.metadata (2.3 kB)\n",
            "Requirement already satisfied: typing-extensions in /usr/local/lib/python3.10/dist-packages (from qiskit) (4.12.2)\n",
            "Collecting symengine>=0.11 (from qiskit)\n",
            "  Downloading symengine-0.11.0-cp310-cp310-manylinux_2_12_x86_64.manylinux2010_x86_64.whl.metadata (1.2 kB)\n",
            "Requirement already satisfied: ipykernel>=4.5.1 in /usr/local/lib/python3.10/dist-packages (from ipywidgets) (5.5.6)\n",
            "Requirement already satisfied: ipython-genutils~=0.2.0 in /usr/local/lib/python3.10/dist-packages (from ipywidgets) (0.2.0)\n",
            "Requirement already satisfied: traitlets>=4.3.1 in /usr/local/lib/python3.10/dist-packages (from ipywidgets) (5.7.1)\n",
            "Requirement already satisfied: widgetsnbextension~=3.6.0 in /usr/local/lib/python3.10/dist-packages (from ipywidgets) (3.6.9)\n",
            "Requirement already satisfied: ipython>=4.0.0 in /usr/local/lib/python3.10/dist-packages (from ipywidgets) (7.34.0)\n",
            "Requirement already satisfied: jupyterlab-widgets>=1.0.0 in /usr/local/lib/python3.10/dist-packages (from ipywidgets) (3.0.13)\n",
            "Requirement already satisfied: jupyter-client in /usr/local/lib/python3.10/dist-packages (from ipykernel>=4.5.1->ipywidgets) (6.1.12)\n",
            "Requirement already satisfied: tornado>=4.2 in /usr/local/lib/python3.10/dist-packages (from ipykernel>=4.5.1->ipywidgets) (6.3.3)\n",
            "Requirement already satisfied: setuptools>=18.5 in /usr/local/lib/python3.10/dist-packages (from ipython>=4.0.0->ipywidgets) (71.0.4)\n",
            "Collecting jedi>=0.16 (from ipython>=4.0.0->ipywidgets)\n",
            "  Using cached jedi-0.19.1-py2.py3-none-any.whl.metadata (22 kB)\n",
            "Requirement already satisfied: decorator in /usr/local/lib/python3.10/dist-packages (from ipython>=4.0.0->ipywidgets) (4.4.2)\n",
            "Requirement already satisfied: pickleshare in /usr/local/lib/python3.10/dist-packages (from ipython>=4.0.0->ipywidgets) (0.7.5)\n",
            "Requirement already satisfied: prompt-toolkit!=3.0.0,!=3.0.1,<3.1.0,>=2.0.0 in /usr/local/lib/python3.10/dist-packages (from ipython>=4.0.0->ipywidgets) (3.0.47)\n",
            "Requirement already satisfied: pygments in /usr/local/lib/python3.10/dist-packages (from ipython>=4.0.0->ipywidgets) (2.16.1)\n",
            "Requirement already satisfied: backcall in /usr/local/lib/python3.10/dist-packages (from ipython>=4.0.0->ipywidgets) (0.2.0)\n",
            "Requirement already satisfied: matplotlib-inline in /usr/local/lib/python3.10/dist-packages (from ipython>=4.0.0->ipywidgets) (0.1.7)\n",
            "Requirement already satisfied: pexpect>4.3 in /usr/local/lib/python3.10/dist-packages (from ipython>=4.0.0->ipywidgets) (4.9.0)\n",
            "Requirement already satisfied: six>=1.5 in /usr/local/lib/python3.10/dist-packages (from python-dateutil>=2.8.0->qiskit) (1.16.0)\n",
            "Collecting pbr>=2.0.0 (from stevedore>=3.0.0->qiskit)\n",
            "  Downloading pbr-6.1.0-py2.py3-none-any.whl.metadata (3.4 kB)\n",
            "Requirement already satisfied: mpmath<1.4,>=1.1.0 in /usr/local/lib/python3.10/dist-packages (from sympy>=1.3->qiskit) (1.3.0)\n",
            "Requirement already satisfied: notebook>=4.4.1 in /usr/local/lib/python3.10/dist-packages (from widgetsnbextension~=3.6.0->ipywidgets) (6.5.5)\n",
            "Requirement already satisfied: parso<0.9.0,>=0.8.3 in /usr/local/lib/python3.10/dist-packages (from jedi>=0.16->ipython>=4.0.0->ipywidgets) (0.8.4)\n",
            "Requirement already satisfied: jinja2 in /usr/local/lib/python3.10/dist-packages (from notebook>=4.4.1->widgetsnbextension~=3.6.0->ipywidgets) (3.1.4)\n",
            "Requirement already satisfied: pyzmq<25,>=17 in /usr/local/lib/python3.10/dist-packages (from notebook>=4.4.1->widgetsnbextension~=3.6.0->ipywidgets) (24.0.1)\n",
            "Requirement already satisfied: argon2-cffi in /usr/local/lib/python3.10/dist-packages (from notebook>=4.4.1->widgetsnbextension~=3.6.0->ipywidgets) (23.1.0)\n",
            "Requirement already satisfied: jupyter-core>=4.6.1 in /usr/local/lib/python3.10/dist-packages (from notebook>=4.4.1->widgetsnbextension~=3.6.0->ipywidgets) (5.7.2)\n",
            "Requirement already satisfied: nbformat in /usr/local/lib/python3.10/dist-packages (from notebook>=4.4.1->widgetsnbextension~=3.6.0->ipywidgets) (5.10.4)\n",
            "Requirement already satisfied: nbconvert>=5 in /usr/local/lib/python3.10/dist-packages (from notebook>=4.4.1->widgetsnbextension~=3.6.0->ipywidgets) (6.5.4)\n",
            "Requirement already satisfied: nest-asyncio>=1.5 in /usr/local/lib/python3.10/dist-packages (from notebook>=4.4.1->widgetsnbextension~=3.6.0->ipywidgets) (1.6.0)\n",
            "Requirement already satisfied: Send2Trash>=1.8.0 in /usr/local/lib/python3.10/dist-packages (from notebook>=4.4.1->widgetsnbextension~=3.6.0->ipywidgets) (1.8.3)\n",
            "Requirement already satisfied: terminado>=0.8.3 in /usr/local/lib/python3.10/dist-packages (from notebook>=4.4.1->widgetsnbextension~=3.6.0->ipywidgets) (0.18.1)\n",
            "Requirement already satisfied: prometheus-client in /usr/local/lib/python3.10/dist-packages (from notebook>=4.4.1->widgetsnbextension~=3.6.0->ipywidgets) (0.20.0)\n",
            "Requirement already satisfied: nbclassic>=0.4.7 in /usr/local/lib/python3.10/dist-packages (from notebook>=4.4.1->widgetsnbextension~=3.6.0->ipywidgets) (1.1.0)\n",
            "Requirement already satisfied: ptyprocess>=0.5 in /usr/local/lib/python3.10/dist-packages (from pexpect>4.3->ipython>=4.0.0->ipywidgets) (0.7.0)\n",
            "Requirement already satisfied: wcwidth in /usr/local/lib/python3.10/dist-packages (from prompt-toolkit!=3.0.0,!=3.0.1,<3.1.0,>=2.0.0->ipython>=4.0.0->ipywidgets) (0.2.13)\n",
            "Requirement already satisfied: platformdirs>=2.5 in /usr/local/lib/python3.10/dist-packages (from jupyter-core>=4.6.1->notebook>=4.4.1->widgetsnbextension~=3.6.0->ipywidgets) (4.3.2)\n",
            "Requirement already satisfied: notebook-shim>=0.2.3 in /usr/local/lib/python3.10/dist-packages (from nbclassic>=0.4.7->notebook>=4.4.1->widgetsnbextension~=3.6.0->ipywidgets) (0.2.4)\n",
            "Requirement already satisfied: lxml in /usr/local/lib/python3.10/dist-packages (from nbconvert>=5->notebook>=4.4.1->widgetsnbextension~=3.6.0->ipywidgets) (4.9.4)\n",
            "Requirement already satisfied: beautifulsoup4 in /usr/local/lib/python3.10/dist-packages (from nbconvert>=5->notebook>=4.4.1->widgetsnbextension~=3.6.0->ipywidgets) (4.12.3)\n",
            "Requirement already satisfied: bleach in /usr/local/lib/python3.10/dist-packages (from nbconvert>=5->notebook>=4.4.1->widgetsnbextension~=3.6.0->ipywidgets) (6.1.0)\n",
            "Requirement already satisfied: defusedxml in /usr/local/lib/python3.10/dist-packages (from nbconvert>=5->notebook>=4.4.1->widgetsnbextension~=3.6.0->ipywidgets) (0.7.1)\n",
            "Requirement already satisfied: entrypoints>=0.2.2 in /usr/local/lib/python3.10/dist-packages (from nbconvert>=5->notebook>=4.4.1->widgetsnbextension~=3.6.0->ipywidgets) (0.4)\n",
            "Requirement already satisfied: jupyterlab-pygments in /usr/local/lib/python3.10/dist-packages (from nbconvert>=5->notebook>=4.4.1->widgetsnbextension~=3.6.0->ipywidgets) (0.3.0)\n",
            "Requirement already satisfied: MarkupSafe>=2.0 in /usr/local/lib/python3.10/dist-packages (from nbconvert>=5->notebook>=4.4.1->widgetsnbextension~=3.6.0->ipywidgets) (2.1.5)\n",
            "Requirement already satisfied: mistune<2,>=0.8.1 in /usr/local/lib/python3.10/dist-packages (from nbconvert>=5->notebook>=4.4.1->widgetsnbextension~=3.6.0->ipywidgets) (0.8.4)\n",
            "Requirement already satisfied: nbclient>=0.5.0 in /usr/local/lib/python3.10/dist-packages (from nbconvert>=5->notebook>=4.4.1->widgetsnbextension~=3.6.0->ipywidgets) (0.10.0)\n",
            "Requirement already satisfied: packaging in /usr/local/lib/python3.10/dist-packages (from nbconvert>=5->notebook>=4.4.1->widgetsnbextension~=3.6.0->ipywidgets) (24.1)\n",
            "Requirement already satisfied: pandocfilters>=1.4.1 in /usr/local/lib/python3.10/dist-packages (from nbconvert>=5->notebook>=4.4.1->widgetsnbextension~=3.6.0->ipywidgets) (1.5.1)\n",
            "Requirement already satisfied: tinycss2 in /usr/local/lib/python3.10/dist-packages (from nbconvert>=5->notebook>=4.4.1->widgetsnbextension~=3.6.0->ipywidgets) (1.3.0)\n",
            "Requirement already satisfied: fastjsonschema>=2.15 in /usr/local/lib/python3.10/dist-packages (from nbformat->notebook>=4.4.1->widgetsnbextension~=3.6.0->ipywidgets) (2.20.0)\n",
            "Requirement already satisfied: jsonschema>=2.6 in /usr/local/lib/python3.10/dist-packages (from nbformat->notebook>=4.4.1->widgetsnbextension~=3.6.0->ipywidgets) (4.23.0)\n",
            "Requirement already satisfied: argon2-cffi-bindings in /usr/local/lib/python3.10/dist-packages (from argon2-cffi->notebook>=4.4.1->widgetsnbextension~=3.6.0->ipywidgets) (21.2.0)\n",
            "Requirement already satisfied: attrs>=22.2.0 in /usr/local/lib/python3.10/dist-packages (from jsonschema>=2.6->nbformat->notebook>=4.4.1->widgetsnbextension~=3.6.0->ipywidgets) (24.2.0)\n",
            "Requirement already satisfied: jsonschema-specifications>=2023.03.6 in /usr/local/lib/python3.10/dist-packages (from jsonschema>=2.6->nbformat->notebook>=4.4.1->widgetsnbextension~=3.6.0->ipywidgets) (2023.12.1)\n",
            "Requirement already satisfied: referencing>=0.28.4 in /usr/local/lib/python3.10/dist-packages (from jsonschema>=2.6->nbformat->notebook>=4.4.1->widgetsnbextension~=3.6.0->ipywidgets) (0.35.1)\n",
            "Requirement already satisfied: rpds-py>=0.7.1 in /usr/local/lib/python3.10/dist-packages (from jsonschema>=2.6->nbformat->notebook>=4.4.1->widgetsnbextension~=3.6.0->ipywidgets) (0.20.0)\n",
            "Requirement already satisfied: jupyter-server<3,>=1.8 in /usr/local/lib/python3.10/dist-packages (from notebook-shim>=0.2.3->nbclassic>=0.4.7->notebook>=4.4.1->widgetsnbextension~=3.6.0->ipywidgets) (1.24.0)\n",
            "Requirement already satisfied: cffi>=1.0.1 in /usr/local/lib/python3.10/dist-packages (from argon2-cffi-bindings->argon2-cffi->notebook>=4.4.1->widgetsnbextension~=3.6.0->ipywidgets) (1.17.1)\n",
            "Requirement already satisfied: soupsieve>1.2 in /usr/local/lib/python3.10/dist-packages (from beautifulsoup4->nbconvert>=5->notebook>=4.4.1->widgetsnbextension~=3.6.0->ipywidgets) (2.6)\n",
            "Requirement already satisfied: webencodings in /usr/local/lib/python3.10/dist-packages (from bleach->nbconvert>=5->notebook>=4.4.1->widgetsnbextension~=3.6.0->ipywidgets) (0.5.1)\n",
            "Requirement already satisfied: pycparser in /usr/local/lib/python3.10/dist-packages (from cffi>=1.0.1->argon2-cffi-bindings->argon2-cffi->notebook>=4.4.1->widgetsnbextension~=3.6.0->ipywidgets) (2.22)\n",
            "Requirement already satisfied: anyio<4,>=3.1.0 in /usr/local/lib/python3.10/dist-packages (from jupyter-server<3,>=1.8->notebook-shim>=0.2.3->nbclassic>=0.4.7->notebook>=4.4.1->widgetsnbextension~=3.6.0->ipywidgets) (3.7.1)\n",
            "Requirement already satisfied: websocket-client in /usr/local/lib/python3.10/dist-packages (from jupyter-server<3,>=1.8->notebook-shim>=0.2.3->nbclassic>=0.4.7->notebook>=4.4.1->widgetsnbextension~=3.6.0->ipywidgets) (1.8.0)\n",
            "Requirement already satisfied: idna>=2.8 in /usr/local/lib/python3.10/dist-packages (from anyio<4,>=3.1.0->jupyter-server<3,>=1.8->notebook-shim>=0.2.3->nbclassic>=0.4.7->notebook>=4.4.1->widgetsnbextension~=3.6.0->ipywidgets) (3.8)\n",
            "Requirement already satisfied: sniffio>=1.1 in /usr/local/lib/python3.10/dist-packages (from anyio<4,>=3.1.0->jupyter-server<3,>=1.8->notebook-shim>=0.2.3->nbclassic>=0.4.7->notebook>=4.4.1->widgetsnbextension~=3.6.0->ipywidgets) (1.3.1)\n",
            "Requirement already satisfied: exceptiongroup in /usr/local/lib/python3.10/dist-packages (from anyio<4,>=3.1.0->jupyter-server<3,>=1.8->notebook-shim>=0.2.3->nbclassic>=0.4.7->notebook>=4.4.1->widgetsnbextension~=3.6.0->ipywidgets) (1.2.2)\n",
            "Downloading qiskit-1.2.1-cp38-abi3-manylinux_2_17_x86_64.manylinux2014_x86_64.whl (4.7 MB)\n",
            "\u001b[2K   \u001b[90m━━━━━━━━━━━━━━━━━━━━━━━━━━━━━━━━━━━━━━━━\u001b[0m \u001b[32m4.7/4.7 MB\u001b[0m \u001b[31m19.2 MB/s\u001b[0m eta \u001b[36m0:00:00\u001b[0m\n",
            "\u001b[?25hDownloading dill-0.3.8-py3-none-any.whl (116 kB)\n",
            "\u001b[2K   \u001b[90m━━━━━━━━━━━━━━━━━━━━━━━━━━━━━━━━━━━━━━━━\u001b[0m \u001b[32m116.3/116.3 kB\u001b[0m \u001b[31m9.1 MB/s\u001b[0m eta \u001b[36m0:00:00\u001b[0m\n",
            "\u001b[?25hDownloading rustworkx-0.15.1-cp38-abi3-manylinux_2_17_x86_64.manylinux2014_x86_64.whl (2.0 MB)\n",
            "\u001b[2K   \u001b[90m━━━━━━━━━━━━━━━━━━━━━━━━━━━━━━━━━━━━━━━━\u001b[0m \u001b[32m2.0/2.0 MB\u001b[0m \u001b[31m67.5 MB/s\u001b[0m eta \u001b[36m0:00:00\u001b[0m\n",
            "\u001b[?25hDownloading stevedore-5.3.0-py3-none-any.whl (49 kB)\n",
            "\u001b[2K   \u001b[90m━━━━━━━━━━━━━━━━━━━━━━━━━━━━━━━━━━━━━━━━\u001b[0m \u001b[32m49.7/49.7 kB\u001b[0m \u001b[31m3.6 MB/s\u001b[0m eta \u001b[36m0:00:00\u001b[0m\n",
            "\u001b[?25hDownloading symengine-0.11.0-cp310-cp310-manylinux_2_12_x86_64.manylinux2010_x86_64.whl (39.4 MB)\n",
            "\u001b[2K   \u001b[90m━━━━━━━━━━━━━━━━━━━━━━━━━━━━━━━━━━━━━━━━\u001b[0m \u001b[32m39.4/39.4 MB\u001b[0m \u001b[31m14.9 MB/s\u001b[0m eta \u001b[36m0:00:00\u001b[0m\n",
            "\u001b[?25hUsing cached jedi-0.19.1-py2.py3-none-any.whl (1.6 MB)\n",
            "Downloading pbr-6.1.0-py2.py3-none-any.whl (108 kB)\n",
            "\u001b[2K   \u001b[90m━━━━━━━━━━━━━━━━━━━━━━━━━━━━━━━━━━━━━━━━\u001b[0m \u001b[32m108.5/108.5 kB\u001b[0m \u001b[31m7.6 MB/s\u001b[0m eta \u001b[36m0:00:00\u001b[0m\n",
            "\u001b[?25hInstalling collected packages: symengine, rustworkx, pbr, jedi, dill, stevedore, qiskit\n",
            "Successfully installed dill-0.3.8 jedi-0.19.1 pbr-6.1.0 qiskit-1.2.1 rustworkx-0.15.1 stevedore-5.3.0 symengine-0.11.0\n"
          ]
        }
      ],
      "source": [
        "!pip install qiskit ipywidgets"
      ]
    },
    {
      "cell_type": "code",
      "source": [
        "import qiskit\n",
        "qiskit.__version__"
      ],
      "metadata": {
        "colab": {
          "base_uri": "https://localhost:8080/",
          "height": 36
        },
        "id": "TneASMXT8R8v",
        "outputId": "b1fa2bef-6167-4471-83b4-74f7704f3cb0"
      },
      "execution_count": 3,
      "outputs": [
        {
          "output_type": "execute_result",
          "data": {
            "text/plain": [
              "'1.2.1'"
            ],
            "application/vnd.google.colaboratory.intrinsic+json": {
              "type": "string"
            }
          },
          "metadata": {},
          "execution_count": 3
        }
      ]
    },
    {
      "cell_type": "code",
      "source": [
        "!pip install qiskit-aer"
      ],
      "metadata": {
        "colab": {
          "base_uri": "https://localhost:8080/"
        },
        "id": "DKaBL0Qn8c55",
        "outputId": "dd2f18a6-236d-49dd-eee3-2aff96dd15ec"
      },
      "execution_count": 4,
      "outputs": [
        {
          "output_type": "stream",
          "name": "stdout",
          "text": [
            "Collecting qiskit-aer\n",
            "  Downloading qiskit_aer-0.15.1-cp310-cp310-manylinux_2_17_x86_64.manylinux2014_x86_64.whl.metadata (8.0 kB)\n",
            "Requirement already satisfied: qiskit>=1.1.0 in /usr/local/lib/python3.10/dist-packages (from qiskit-aer) (1.2.1)\n",
            "Requirement already satisfied: numpy>=1.16.3 in /usr/local/lib/python3.10/dist-packages (from qiskit-aer) (1.26.4)\n",
            "Requirement already satisfied: scipy>=1.0 in /usr/local/lib/python3.10/dist-packages (from qiskit-aer) (1.13.1)\n",
            "Requirement already satisfied: psutil>=5 in /usr/local/lib/python3.10/dist-packages (from qiskit-aer) (5.9.5)\n",
            "Requirement already satisfied: rustworkx>=0.15.0 in /usr/local/lib/python3.10/dist-packages (from qiskit>=1.1.0->qiskit-aer) (0.15.1)\n",
            "Requirement already satisfied: sympy>=1.3 in /usr/local/lib/python3.10/dist-packages (from qiskit>=1.1.0->qiskit-aer) (1.13.2)\n",
            "Requirement already satisfied: dill>=0.3 in /usr/local/lib/python3.10/dist-packages (from qiskit>=1.1.0->qiskit-aer) (0.3.8)\n",
            "Requirement already satisfied: python-dateutil>=2.8.0 in /usr/local/lib/python3.10/dist-packages (from qiskit>=1.1.0->qiskit-aer) (2.8.2)\n",
            "Requirement already satisfied: stevedore>=3.0.0 in /usr/local/lib/python3.10/dist-packages (from qiskit>=1.1.0->qiskit-aer) (5.3.0)\n",
            "Requirement already satisfied: typing-extensions in /usr/local/lib/python3.10/dist-packages (from qiskit>=1.1.0->qiskit-aer) (4.12.2)\n",
            "Requirement already satisfied: symengine>=0.11 in /usr/local/lib/python3.10/dist-packages (from qiskit>=1.1.0->qiskit-aer) (0.11.0)\n",
            "Requirement already satisfied: six>=1.5 in /usr/local/lib/python3.10/dist-packages (from python-dateutil>=2.8.0->qiskit>=1.1.0->qiskit-aer) (1.16.0)\n",
            "Requirement already satisfied: pbr>=2.0.0 in /usr/local/lib/python3.10/dist-packages (from stevedore>=3.0.0->qiskit>=1.1.0->qiskit-aer) (6.1.0)\n",
            "Requirement already satisfied: mpmath<1.4,>=1.1.0 in /usr/local/lib/python3.10/dist-packages (from sympy>=1.3->qiskit>=1.1.0->qiskit-aer) (1.3.0)\n",
            "Downloading qiskit_aer-0.15.1-cp310-cp310-manylinux_2_17_x86_64.manylinux2014_x86_64.whl (12.3 MB)\n",
            "\u001b[2K   \u001b[90m━━━━━━━━━━━━━━━━━━━━━━━━━━━━━━━━━━━━━━━━\u001b[0m \u001b[32m12.3/12.3 MB\u001b[0m \u001b[31m47.4 MB/s\u001b[0m eta \u001b[36m0:00:00\u001b[0m\n",
            "\u001b[?25hInstalling collected packages: qiskit-aer\n",
            "Successfully installed qiskit-aer-0.15.1\n"
          ]
        }
      ]
    },
    {
      "cell_type": "code",
      "source": [
        "!pip install pylatexenc"
      ],
      "metadata": {
        "colab": {
          "base_uri": "https://localhost:8080/"
        },
        "id": "uwBDsVyMmjJ6",
        "outputId": "42bf31e4-9c8a-4389-b3b7-47866aec7bf4"
      },
      "execution_count": 5,
      "outputs": [
        {
          "output_type": "stream",
          "name": "stdout",
          "text": [
            "Collecting pylatexenc\n",
            "  Downloading pylatexenc-2.10.tar.gz (162 kB)\n",
            "\u001b[2K     \u001b[90m━━━━━━━━━━━━━━━━━━━━━━━━━━━━━━━━━━━━━━━━\u001b[0m \u001b[32m162.6/162.6 kB\u001b[0m \u001b[31m1.4 MB/s\u001b[0m eta \u001b[36m0:00:00\u001b[0m\n",
            "\u001b[?25h  Preparing metadata (setup.py) ... \u001b[?25l\u001b[?25hdone\n",
            "Building wheels for collected packages: pylatexenc\n",
            "  Building wheel for pylatexenc (setup.py) ... \u001b[?25l\u001b[?25hdone\n",
            "  Created wheel for pylatexenc: filename=pylatexenc-2.10-py3-none-any.whl size=136817 sha256=cb41cd20a0ede63cd6723deb2650efce327a0c5ad8c2254b448d16e0ac45af6f\n",
            "  Stored in directory: /root/.cache/pip/wheels/d3/31/8b/e09b0386afd80cfc556c00408c9aeea5c35c4d484a9c762fd5\n",
            "Successfully built pylatexenc\n",
            "Installing collected packages: pylatexenc\n",
            "Successfully installed pylatexenc-2.10\n"
          ]
        }
      ]
    },
    {
      "cell_type": "code",
      "source": [
        "from qiskit import QuantumCircuit, QuantumRegister, ClassicalRegister\n",
        "import numpy as np\n",
        "\n",
        "alpha = complex(1/np.sqrt(2),0)\n",
        "beta = complex(1/np.sqrt(2),0)\n",
        "\n",
        "qc = QuantumCircuit(5,2)\n",
        "\n",
        "qc.initialize([alpha, beta],0)\n",
        "\n",
        "qc.x(1)\n",
        "\n",
        "qc.cx(0, 1)\n",
        "qc.cx(0,2)\n",
        "\n",
        "\n",
        "qc.cx(0,3)\n",
        "qc.cx(1,3)\n",
        "\n",
        "\n",
        "qc.cx(1,4)\n",
        "qc.cx(2,4)\n",
        "\n",
        "qc.measure([3,4],[0,1])\n",
        "\n",
        "qc.draw(output='mpl')"
      ],
      "metadata": {
        "colab": {
          "base_uri": "https://localhost:8080/",
          "height": 449
        },
        "id": "6ctSqpFdmUR-",
        "outputId": "c0d30ec8-088e-4ebb-e9a1-897fc645a305"
      },
      "execution_count": 10,
      "outputs": [
        {
          "output_type": "execute_result",
          "data": {
            "text/plain": [
              "<Figure size 956.385x535.111 with 1 Axes>"
            ],
            "image/png": "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\n"
          },
          "metadata": {},
          "execution_count": 10
        }
      ]
    },
    {
      "cell_type": "code",
      "source": [
        "from qiskit.visualization import plot_histogram\n",
        "import qiskit_aer\n",
        "from qiskit_aer import Aer\n",
        "simulator = Aer.get_backend('aer_simulator')\n",
        "job = simulator.run(qc, shots = 1024)\n",
        "results = job.result()\n",
        "counts = results.get_counts(qc)\n",
        "plot_histogram(counts)"
      ],
      "metadata": {
        "colab": {
          "base_uri": "https://localhost:8080/",
          "height": 437
        },
        "id": "zjR7YZEByBsJ",
        "outputId": "f351bff6-d405-4a87-d7d9-8d52b597c0e6"
      },
      "execution_count": 7,
      "outputs": [
        {
          "output_type": "execute_result",
          "data": {
            "text/plain": [
              "<Figure size 640x480 with 1 Axes>"
            ],
            "image/png": "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\n"
          },
          "metadata": {},
          "execution_count": 7
        }
      ]
    },
    {
 
